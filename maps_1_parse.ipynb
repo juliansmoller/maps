{
 "cells": [
  {
   "cell_type": "markdown",
   "metadata": {},
   "source": [
    "# README"
   ]
  },
  {
   "cell_type": "code",
   "execution_count": 1,
   "metadata": {
    "collapsed": false,
    "deletable": true,
    "editable": true
   },
   "outputs": [
    {
     "name": "stdout",
     "output_type": "stream",
     "text": [
      "\n",
      "Julian Smoller ~ 2017.04.24\n",
      "\n",
      "# Intro:\n",
      "The purpose of this notebook is to parse the GPS coordinates \n",
      "and other data from a KML file, which is the type of file you \n",
      "get when you export a Google map, e.g. my map of NYC bars.\n",
      "\n",
      "To generate a map, e.g. a map of Citibikes, I first created \n",
      "a Google Map with icons and polygons in different locations. \n",
      "For example, I created a Google Map with a polygon representing \n",
      "the perimeter of Manhattan. Then I exported that map to a KML file. \n",
      "Then I used the code below to parse the KML data into a dataframe \n",
      "and save it to a pickle file. Then the code in the other notebook \n",
      "will load the dataframe and draw polygons to generate a map. \n",
      "\n",
      "\n"
     ]
    }
   ],
   "source": [
    "README = '''\n",
    "Julian Smoller ~ 2017.04.24\n",
    "\n",
    "# Intro:\n",
    "The purpose of this notebook is to parse the GPS coordinates \n",
    "and other data from a KML file, which is the type of file you \n",
    "get when you export a Google map, e.g. my map of NYC bars.\n",
    "\n",
    "To generate a map, e.g. a map of Citibikes, I first created \n",
    "a Google Map with icons and polygons in different locations. \n",
    "For example, I created a Google Map with a polygon representing \n",
    "the perimeter of Manhattan. Then I exported that map to a KML file. \n",
    "Then I used the code below to parse the KML data into a dataframe \n",
    "and save it to a pickle file. Then the code in the other notebook \n",
    "will load the dataframe and draw polygons to generate a map. \n",
    "\n",
    "'''\n",
    "print(README)"
   ]
  },
  {
   "cell_type": "markdown",
   "metadata": {
    "deletable": true,
    "editable": true
   },
   "source": [
    "# Import libraries + change display settings"
   ]
  },
  {
   "cell_type": "code",
   "execution_count": 2,
   "metadata": {
    "collapsed": true,
    "deletable": true,
    "editable": true
   },
   "outputs": [],
   "source": [
    "########################################################################\n",
    "# Import libraries:\n",
    "from PIL import Image, ImageDraw\n",
    "from matplotlib.pyplot import imshow\n",
    "import numpy as np\n",
    "import pickle\n",
    "import pandas as pd\n",
    "\n",
    "########################################################################\n",
    "# Change display settings:\n",
    "pd.options.display.max_rows = 500\n",
    "pd.options.display.max_columns = 100\n",
    "%matplotlib inline"
   ]
  },
  {
   "cell_type": "markdown",
   "metadata": {
    "deletable": true,
    "editable": true
   },
   "source": [
    "# Read text from file"
   ]
  },
  {
   "cell_type": "code",
   "execution_count": 4,
   "metadata": {
    "collapsed": false,
    "deletable": true,
    "editable": true
   },
   "outputs": [
    {
     "name": "stdout",
     "output_type": "stream",
     "text": [
      "202761\n",
      "b\"<?xml version='1.0' encoding='UTF-8'?>\\n<kml xmlns='http://www.opengis.net/kml/2.2'>\\n\\t<Document>\n"
     ]
    }
   ],
   "source": [
    "def read_file(path):\n",
    "    '''Given the path to a file, open and read the file, \n",
    "    and return the contents as a string.\n",
    "    '''\n",
    "    f = open(path,'rb')\n",
    "    text = f.read()\n",
    "    text = str(text)\n",
    "    f.close()\n",
    "    return text\n",
    "\n",
    "path_in = 'data/input/manhattan_parks.kml'\n",
    "text = read_file(path_in)\n",
    "print(len(text))\n",
    "print(text[:100])"
   ]
  },
  {
   "cell_type": "markdown",
   "metadata": {
    "deletable": true,
    "editable": true
   },
   "source": [
    "# Parse places from KML file"
   ]
  },
  {
   "cell_type": "code",
   "execution_count": 5,
   "metadata": {
    "collapsed": false,
    "deletable": true,
    "editable": true
   },
   "outputs": [
    {
     "name": "stdout",
     "output_type": "stream",
     "text": [
      "313\n"
     ]
    },
    {
     "data": {
      "text/html": [
       "<div>\n",
       "<table border=\"1\" class=\"dataframe\">\n",
       "  <thead>\n",
       "    <tr style=\"text-align: right;\">\n",
       "      <th></th>\n",
       "      <th>coordinates</th>\n",
       "      <th>latitude</th>\n",
       "      <th>longitude</th>\n",
       "      <th>name</th>\n",
       "    </tr>\n",
       "  </thead>\n",
       "  <tbody>\n",
       "    <tr>\n",
       "      <th>0</th>\n",
       "      <td>-74.0188086,40.7081817,0.0 -74.018873,40.70800...</td>\n",
       "      <td>[40.708182, 40.708003, 40.7078, 40.7071, 40.70...</td>\n",
       "      <td>[-74.018809, -74.018873, -74.018219, -74.01854...</td>\n",
       "      <td>Polygon 1</td>\n",
       "    </tr>\n",
       "    <tr>\n",
       "      <th>1</th>\n",
       "      <td>-74.0133905,40.7056849,0.0 -74.0138251,40.7051...</td>\n",
       "      <td>[40.705685, 40.705156, 40.70468, 40.70468, 40....</td>\n",
       "      <td>[-74.01339, -74.013825, -74.014083, -74.013342...</td>\n",
       "      <td>Polygon 2</td>\n",
       "    </tr>\n",
       "    <tr>\n",
       "      <th>2</th>\n",
       "      <td>-74.0101773,40.7032571,0.0 -74.010365,40.70321...</td>\n",
       "      <td>[40.703257, 40.703212, 40.702167, 40.702464, 4...</td>\n",
       "      <td>[-74.010177, -74.010365, -74.01, -74.009335, -...</td>\n",
       "      <td>Polygon 3</td>\n",
       "    </tr>\n",
       "    <tr>\n",
       "      <th>3</th>\n",
       "      <td>-74.0089488,40.70493249999999,0.0 -74.0096515,...</td>\n",
       "      <td>[40.704932, 40.704758, 40.704583, 40.70488, 40...</td>\n",
       "      <td>[-74.008949, -74.009652, -74.009453, -74.00892...</td>\n",
       "      <td>Polygon 4</td>\n",
       "    </tr>\n",
       "    <tr>\n",
       "      <th>4</th>\n",
       "      <td>-74.0072,40.7052457,0.0 -74.0073341,40.7051643...</td>\n",
       "      <td>[40.705246, 40.705164, 40.704302, 40.704432, 4...</td>\n",
       "      <td>[-74.0072, -74.007334, -74.00631, -74.006127, ...</td>\n",
       "      <td>Polygon 5</td>\n",
       "    </tr>\n",
       "  </tbody>\n",
       "</table>\n",
       "</div>"
      ],
      "text/plain": [
       "                                         coordinates  \\\n",
       "0  -74.0188086,40.7081817,0.0 -74.018873,40.70800...   \n",
       "1  -74.0133905,40.7056849,0.0 -74.0138251,40.7051...   \n",
       "2  -74.0101773,40.7032571,0.0 -74.010365,40.70321...   \n",
       "3  -74.0089488,40.70493249999999,0.0 -74.0096515,...   \n",
       "4  -74.0072,40.7052457,0.0 -74.0073341,40.7051643...   \n",
       "\n",
       "                                            latitude  \\\n",
       "0  [40.708182, 40.708003, 40.7078, 40.7071, 40.70...   \n",
       "1  [40.705685, 40.705156, 40.70468, 40.70468, 40....   \n",
       "2  [40.703257, 40.703212, 40.702167, 40.702464, 4...   \n",
       "3  [40.704932, 40.704758, 40.704583, 40.70488, 40...   \n",
       "4  [40.705246, 40.705164, 40.704302, 40.704432, 4...   \n",
       "\n",
       "                                           longitude       name  \n",
       "0  [-74.018809, -74.018873, -74.018219, -74.01854...  Polygon 1  \n",
       "1  [-74.01339, -74.013825, -74.014083, -74.013342...  Polygon 2  \n",
       "2  [-74.010177, -74.010365, -74.01, -74.009335, -...  Polygon 3  \n",
       "3  [-74.008949, -74.009652, -74.009453, -74.00892...  Polygon 4  \n",
       "4  [-74.0072, -74.007334, -74.00631, -74.006127, ...  Polygon 5  "
      ]
     },
     "execution_count": 5,
     "metadata": {},
     "output_type": "execute_result"
    }
   ],
   "source": [
    "def parse_elements(text, element):\n",
    "    '''\n",
    "    Given the text of a KML file, parse the text beteween the start and end\n",
    "    tags of a specific element, e.g. Placemark; returns a list for each instance of \n",
    "    given element, e.g. each Placemark\n",
    "    '''\n",
    "    start_tag = '<'+element\n",
    "    end_tag = '</'+element\n",
    "    # Split the text wherever a start tag occurs\n",
    "    elements = text.split(start_tag)\n",
    "    # If we didn't find any start tags, return an empty list\n",
    "    if len(elements)<1:\n",
    "        return elements\n",
    "    else:\n",
    "        # Chop off the first item, which contains text before the first start tag\n",
    "        elements = elements[1:]\n",
    "        # For every element... \n",
    "        for i, e in enumerate(elements):\n",
    "            # Trim text after end tag\n",
    "            end_pos = e.find(end_tag)\n",
    "            if end_pos>=0:\n",
    "                elements[i] = e[:end_pos]\n",
    "        return elements\n",
    "    \n",
    "def parse_coordinates(text):\n",
    "    '''\n",
    "    Given the text for a KML \"coordinates\" element, parse the longitude and latitude\n",
    "    Input: a single string containing coordinate text parsed from a \"Placemark\" object\n",
    "    Output: a dictionary of longitude and latitude arrays\n",
    "    '''\n",
    "    gps = {'longitude':[],'latitude':[]}\n",
    "    # Split the text into chunks wherever there is a space\n",
    "    chunks = text.split(' ')\n",
    "    for chunk in chunks:\n",
    "        # Split each chunk into its constituent numbers wherever there is a comma\n",
    "        nums = chunk.split(',')\n",
    "        # Add the relevant numbers to the appropriate arrays for longitude and lattitude\n",
    "        gps['longitude'].append(round(float(nums[0]),6))\n",
    "        gps['latitude'].append(round(float(nums[1]),6))\n",
    "    return gps\n",
    "    \n",
    "def parse_polygon_places_from_kml_file(path):\n",
    "    '''\n",
    "    Given the path to a KML file, parse each placemeark along with GPS coordinates. \n",
    "    Each placemark is assumed to be a polygon, with multiple GPS coordinates. \n",
    "    Input: path to KML file containing placemark elements\n",
    "    Output: dataframe with one row per placemark, with columns for longitude and latitude\n",
    "    Note: placemarks could also be lines, in which case you will want to concat, e.g. perimeter\n",
    "    '''\n",
    "    # Get text from KML file\n",
    "    text = read_file(path)\n",
    "    # Get a list of each placemark's text\n",
    "    places = parse_elements(text, 'Placemark')\n",
    "    # Prepare a dictionary of lists for parsed values\n",
    "    d = {'name':[], 'coordinates':[], 'latitude':[], 'longitude':[]}\n",
    "    # For each placemark, parse relevant values\n",
    "    for p in places:\n",
    "        # Parse the text for name and coordinates (as a string)\n",
    "        d['name'].append(parse_elements(p,'name')[0][1:])\n",
    "        coordinate_text = parse_elements(p, 'coordinates')[0][1:]\n",
    "        d['coordinates'].append(coordinate_text)\n",
    "        # Parse the longitude and latitude arrays\n",
    "        gps = parse_coordinates(coordinate_text)\n",
    "        d['latitude'].append(gps['latitude'])\n",
    "        d['longitude'].append(gps['longitude'])\n",
    "    df_places = pd.DataFrame(d)\n",
    "    return df_places\n",
    "\n",
    "path_in = 'data/input/manhattan_parks.kml'\n",
    "places = parse_polygon_places_from_kml_file(path_in)\n",
    "print(len(places))\n",
    "places.head()"
   ]
  },
  {
   "cell_type": "markdown",
   "metadata": {
    "deletable": true,
    "editable": true
   },
   "source": [
    "# Class: Place"
   ]
  },
  {
   "cell_type": "code",
   "execution_count": 6,
   "metadata": {
    "collapsed": false,
    "deletable": true,
    "editable": true
   },
   "outputs": [],
   "source": [
    "class Place:\n",
    "    '''\n",
    "    Create a Place instance from the text of a Placemark parsed from a KML file.\n",
    "    Input: the text of a Placemark object, parsed from KML file (using parse_elements)\n",
    "    Dependencies: parse_elements and parse_coordinates\n",
    "    Output: a Place instance with attributes like name, icon info, coordinates, etc.\n",
    "    '''\n",
    "    def __init__(self, text):\n",
    "        self.text = text\n",
    "        self.name = self.parse_name()\n",
    "        self.description = self.parse_description()\n",
    "        self.icon_string = self.parse_icon_string()\n",
    "        self.icon_shape = self.parse_icon_shape()\n",
    "        self.icon_color = self.parse_icon_color()\n",
    "        self.coordinate_string = self.parse_coordinate_string()\n",
    "        self.coordinates = parse_coordinates(self.coordinate_string)\n",
    "    def parse_name(self):\n",
    "        names = parse_elements(self.text, 'name')\n",
    "        name = '' if len(names)<1 else names[0][1:]\n",
    "        return name\n",
    "    def parse_description(self):\n",
    "        descriptions = parse_elements(self.text, 'description')\n",
    "        description = '' if len(descriptions)<1 else descriptions[0][1:]\n",
    "        if description[:9] == '<![CDATA[':\n",
    "            description = description[9:]\n",
    "        if description[-3:] == ']]>':\n",
    "            description = description[:-3]\n",
    "        return description\n",
    "    def parse_icon_string(self):\n",
    "        icon_strings = parse_elements(self.text, 'styleUrl')\n",
    "        icon_string = '' if len(icon_strings)<1 else icon_strings[0][1:]\n",
    "        return icon_string\n",
    "    def parse_icon_shape(self):\n",
    "        try:\n",
    "            icon_shape = self.icon_string.split('-')[1]\n",
    "        except:\n",
    "            icon_shape = ''\n",
    "        finally:\n",
    "            return icon_shape\n",
    "    def parse_icon_color(self):\n",
    "        try:\n",
    "            icon_color = self.icon_string.split('-')[2]\n",
    "        except:\n",
    "            icon_color = ''\n",
    "        finally:\n",
    "            return icon_color\n",
    "    def parse_coordinate_string(self):\n",
    "        coordinate_strings = parse_elements(self.text, 'coordinates')\n",
    "        coordinate_string = '' if len(coordinate_strings)<1 else coordinate_strings[0][1:]\n",
    "        return coordinate_string"
   ]
  },
  {
   "cell_type": "markdown",
   "metadata": {
    "deletable": true,
    "editable": true
   },
   "source": [
    "# Parse point places from KML file"
   ]
  },
  {
   "cell_type": "code",
   "execution_count": 7,
   "metadata": {
    "collapsed": false,
    "deletable": true,
    "editable": true
   },
   "outputs": [
    {
     "name": "stdout",
     "output_type": "stream",
     "text": [
      "709\n"
     ]
    },
    {
     "data": {
      "text/html": [
       "<div>\n",
       "<table border=\"1\" class=\"dataframe\">\n",
       "  <thead>\n",
       "    <tr style=\"text-align: right;\">\n",
       "      <th></th>\n",
       "      <th>longitude</th>\n",
       "      <th>latitude</th>\n",
       "      <th>name</th>\n",
       "      <th>icon_shape</th>\n",
       "      <th>icon_color</th>\n",
       "      <th>description</th>\n",
       "    </tr>\n",
       "  </thead>\n",
       "  <tbody>\n",
       "    <tr>\n",
       "      <th>0</th>\n",
       "      <td>-73.999488</td>\n",
       "      <td>40.714600</td>\n",
       "      <td>Le Baron NYC</td>\n",
       "      <td>962</td>\n",
       "      <td>FFFFFF</td>\n",
       "      <td>Exclusive 3-level nightclub with a sultry, red...</td>\n",
       "    </tr>\n",
       "    <tr>\n",
       "      <th>1</th>\n",
       "      <td>-74.008367</td>\n",
       "      <td>40.741029</td>\n",
       "      <td>Le Bain</td>\n",
       "      <td>503</td>\n",
       "      <td>DB4436</td>\n",
       "      <td>There\\'s a disco, bar, (seasonal) plunge pool ...</td>\n",
       "    </tr>\n",
       "    <tr>\n",
       "      <th>2</th>\n",
       "      <td>-74.003636</td>\n",
       "      <td>40.742083</td>\n",
       "      <td>Electric Room</td>\n",
       "      <td>962</td>\n",
       "      <td>000000</td>\n",
       "      <td>The Electric Room lurks deep beneath the Dream...</td>\n",
       "    </tr>\n",
       "    <tr>\n",
       "      <th>3</th>\n",
       "      <td>-74.010638</td>\n",
       "      <td>40.739838</td>\n",
       "      <td>The Raven</td>\n",
       "      <td>962</td>\n",
       "      <td>FFFFFF</td>\n",
       "      <td>Basement club with DJs, drinks &amp; Edgar Allan P...</td>\n",
       "    </tr>\n",
       "    <tr>\n",
       "      <th>4</th>\n",
       "      <td>-74.005886</td>\n",
       "      <td>40.739912</td>\n",
       "      <td>Provocateur</td>\n",
       "      <td>962</td>\n",
       "      <td>000000</td>\n",
       "      <td>Swanky Gansevoort Hotel nightclub lined with l...</td>\n",
       "    </tr>\n",
       "  </tbody>\n",
       "</table>\n",
       "</div>"
      ],
      "text/plain": [
       "   longitude   latitude           name icon_shape icon_color  \\\n",
       "0 -73.999488  40.714600   Le Baron NYC        962     FFFFFF   \n",
       "1 -74.008367  40.741029        Le Bain        503     DB4436   \n",
       "2 -74.003636  40.742083  Electric Room        962     000000   \n",
       "3 -74.010638  40.739838      The Raven        962     FFFFFF   \n",
       "4 -74.005886  40.739912    Provocateur        962     000000   \n",
       "\n",
       "                                         description  \n",
       "0  Exclusive 3-level nightclub with a sultry, red...  \n",
       "1  There\\'s a disco, bar, (seasonal) plunge pool ...  \n",
       "2  The Electric Room lurks deep beneath the Dream...  \n",
       "3  Basement club with DJs, drinks & Edgar Allan P...  \n",
       "4  Swanky Gansevoort Hotel nightclub lined with l...  "
      ]
     },
     "execution_count": 7,
     "metadata": {},
     "output_type": "execute_result"
    }
   ],
   "source": [
    "def parse_point_places_from_kml_file(path):\n",
    "    '''\n",
    "    Create a list of Places by parsing Placemarks from KML file.\n",
    "    This function is similar to the prior function, but in this case we are only recording \n",
    "    one GPS coordinate (longitude,latitude) per place, as if the place were a single point.\n",
    "    Input: path to a KML file\n",
    "    Output: a dataframe of places, with columns for longitude, latitude, name, description, icon info, etc.\n",
    "    '''\n",
    "    # Read KML file\n",
    "    text = read_file(path)\n",
    "    # For every chunk of text containing a Placemark, create a Place instance\n",
    "    places = []\n",
    "    for p in parse_elements(text, 'Placemark'):\n",
    "        places.append(Place(p))\n",
    "    # Compile all of the Places into a dataframe\n",
    "    d = {'name':[], 'description':[], 'icon_shape':[], 'icon_color':[], \n",
    "         'longitude':[], 'latitude':[]}\n",
    "    for p in places:\n",
    "        d['name'].append(p.name)\n",
    "        d['description'].append(p.description)\n",
    "        d['icon_shape'].append(p.icon_shape)\n",
    "        d['icon_color'].append(p.icon_color)\n",
    "        d['longitude'].append(p.coordinates['longitude'][0])\n",
    "        d['latitude'].append(p.coordinates['latitude'][0])\n",
    "    df = pd.DataFrame(d)\n",
    "    df = df[['longitude', 'latitude', 'name', 'icon_shape', 'icon_color', 'description']]\n",
    "    return df\n",
    "\n",
    "path_in = 'data/input/bars.kml'\n",
    "places = parse_point_places_from_kml_file(path_in)\n",
    "print(len(places))\n",
    "places.head()"
   ]
  },
  {
   "cell_type": "markdown",
   "metadata": {
    "collapsed": true,
    "deletable": true,
    "editable": true
   },
   "source": [
    "# Parse + Save data"
   ]
  },
  {
   "cell_type": "code",
   "execution_count": 9,
   "metadata": {
    "collapsed": false,
    "deletable": true,
    "editable": true
   },
   "outputs": [],
   "source": [
    "# Export GPS data for later use\n",
    "# Citibikes\n",
    "path_in = 'data/input/citibikes.kml'\n",
    "citibikes = parse_point_places_from_kml_file(path_in)\n",
    "path_out = 'data/output/citibikes.p'\n",
    "pickle.dump(citibikes, open(path_out, 'wb'))"
   ]
  },
  {
   "cell_type": "code",
   "execution_count": 10,
   "metadata": {
    "collapsed": true
   },
   "outputs": [],
   "source": [
    "# Parks\n",
    "path_in = 'data/input/manhattan_parks.kml'\n",
    "parks = parse_polygon_places_from_kml_file(path_in)\n",
    "path_out = 'data/output/parks.p'\n",
    "pickle.dump(parks, open(path_out, 'wb'))"
   ]
  },
  {
   "cell_type": "code",
   "execution_count": 16,
   "metadata": {
    "collapsed": true
   },
   "outputs": [],
   "source": [
    "# Perimeter\n",
    "path_in = 'data/input/manhattan_perimeter.kml'\n",
    "perimeter_lines = parse_polygon_places_from_kml_file(path_in)\n",
    "latitude = []\n",
    "longitude = []\n",
    "for i in perimeter_lines.index:\n",
    "    latitude += perimeter_lines.ix[i,'latitude']\n",
    "    longitude += perimeter_lines.ix[i,'longitude']\n",
    "perimeter = pd.DataFrame({'longitude':longitude,'latitude':latitude})\n",
    "path_out = 'data/output/perimeter.p'\n",
    "pickle.dump(perimeter, open(path_out, 'wb'))"
   ]
  },
  {
   "cell_type": "code",
   "execution_count": null,
   "metadata": {
    "collapsed": true
   },
   "outputs": [],
   "source": []
  }
 ],
 "metadata": {
  "kernelspec": {
   "display_name": "Python 3",
   "language": "python",
   "name": "python3"
  },
  "language_info": {
   "codemirror_mode": {
    "name": "ipython",
    "version": 3
   },
   "file_extension": ".py",
   "mimetype": "text/x-python",
   "name": "python",
   "nbconvert_exporter": "python",
   "pygments_lexer": "ipython3",
   "version": "3.5.2"
  }
 },
 "nbformat": 4,
 "nbformat_minor": 2
}
