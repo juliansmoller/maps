{
 "cells": [
  {
   "cell_type": "markdown",
   "metadata": {},
   "source": [
    "# README"
   ]
  },
  {
   "cell_type": "code",
   "execution_count": 1,
   "metadata": {
    "collapsed": false,
    "deletable": true,
    "editable": true
   },
   "outputs": [
    {
     "name": "stdout",
     "output_type": "stream",
     "text": [
      "\n",
      "Julian Smoller ~ 2017.04.24\n",
      "\n",
      "# Intro:\n",
      "The purpose of this notebook is to load GPS data (created in a prior step) \n",
      "and render it in an image as colored squares, ellipses, and polygons. \n",
      "\n",
      "For example, I can draw the perimeter of Manhattan as a tan colored polygon, \n",
      "and I can draw Citibike stations as little blue squares. \n",
      "\n",
      "The code below relies on GPS data that was parsed and saved in a prior step. \n",
      "See the other notebook for how to parse and save KML data. \n",
      "At this point in the process, the GPS data is stored in dataframes that are saved as pickle files. \n",
      "\n",
      "This project was my first attempt to create a Citibike map using polygons. \n",
      "Later I learned how to use the Google maps API, which makes a lot more sense, \n",
      "but at least this code demonstrates how to draw polygons using the iDraw library. \n",
      "\n",
      "\n"
     ]
    }
   ],
   "source": [
    "README = '''\n",
    "Julian Smoller ~ 2017.04.24\n",
    "\n",
    "# Intro:\n",
    "The purpose of this notebook is to load GPS data (created in a prior step) \n",
    "and render it in an image as colored squares, ellipses, and polygons. \n",
    "\n",
    "For example, I can draw the perimeter of Manhattan as a tan colored polygon, \n",
    "and I can draw Citibike stations as little blue squares. \n",
    "\n",
    "The code below relies on GPS data that was parsed and saved in a prior step. \n",
    "See the other notebook for how to parse and save KML data. \n",
    "At this point in the process, the GPS data is stored in dataframes that are saved as pickle files. \n",
    "\n",
    "This project was my first attempt to create a Citibike map using polygons. \n",
    "Later I learned how to use the Google maps API, which makes a lot more sense, \n",
    "but at least this code demonstrates how to draw polygons using the iDraw library. \n",
    "\n",
    "'''\n",
    "print(README)"
   ]
  },
  {
   "cell_type": "markdown",
   "metadata": {
    "deletable": true,
    "editable": true
   },
   "source": [
    "# Import libraries + change display settings"
   ]
  },
  {
   "cell_type": "code",
   "execution_count": 2,
   "metadata": {
    "collapsed": true,
    "deletable": true,
    "editable": true
   },
   "outputs": [],
   "source": [
    "########################################################################\n",
    "# Import libraries\n",
    "from PIL import Image, ImageDraw\n",
    "from matplotlib.pyplot import imshow\n",
    "import numpy as np\n",
    "import pickle\n",
    "import pandas as pd\n",
    "\n",
    "########################################################################\n",
    "# Change display settings:\n",
    "pd.options.display.max_rows = 500\n",
    "pd.options.display.max_columns = 100\n",
    "%matplotlib inline"
   ]
  },
  {
   "cell_type": "markdown",
   "metadata": {
    "deletable": true,
    "editable": true
   },
   "source": [
    "# Load GPS data"
   ]
  },
  {
   "cell_type": "code",
   "execution_count": 9,
   "metadata": {
    "collapsed": false
   },
   "outputs": [
    {
     "data": {
      "text/html": [
       "<div>\n",
       "<table border=\"1\" class=\"dataframe\">\n",
       "  <thead>\n",
       "    <tr style=\"text-align: right;\">\n",
       "      <th></th>\n",
       "      <th>longitude</th>\n",
       "      <th>latitude</th>\n",
       "      <th>name</th>\n",
       "      <th>icon_shape</th>\n",
       "      <th>icon_color</th>\n",
       "      <th>description</th>\n",
       "    </tr>\n",
       "  </thead>\n",
       "  <tbody>\n",
       "    <tr>\n",
       "      <th>0</th>\n",
       "      <td>-73.990662</td>\n",
       "      <td>40.771629</td>\n",
       "      <td>Bikes</td>\n",
       "      <td>1419</td>\n",
       "      <td>nodesc</td>\n",
       "      <td></td>\n",
       "    </tr>\n",
       "    <tr>\n",
       "      <th>1</th>\n",
       "      <td>-73.988038</td>\n",
       "      <td>40.770499</td>\n",
       "      <td>Bikes</td>\n",
       "      <td>1419</td>\n",
       "      <td>nodesc</td>\n",
       "      <td></td>\n",
       "    </tr>\n",
       "  </tbody>\n",
       "</table>\n",
       "</div>"
      ],
      "text/plain": [
       "   longitude   latitude   name icon_shape icon_color description\n",
       "0 -73.990662  40.771629  Bikes       1419     nodesc            \n",
       "1 -73.988038  40.770499  Bikes       1419     nodesc            "
      ]
     },
     "execution_count": 9,
     "metadata": {},
     "output_type": "execute_result"
    }
   ],
   "source": [
    "# Load GPS data for Manhattan perimeter, Manhattan parks, and Citibike locations (created earlier)\n",
    "path_in = 'data/output/citibikes.p'\n",
    "citibikes = pickle.load(open(path_in,'rb'))\n",
    "citibikes.head(2)"
   ]
  },
  {
   "cell_type": "code",
   "execution_count": 10,
   "metadata": {
    "collapsed": false
   },
   "outputs": [
    {
     "data": {
      "text/html": [
       "<div>\n",
       "<table border=\"1\" class=\"dataframe\">\n",
       "  <thead>\n",
       "    <tr style=\"text-align: right;\">\n",
       "      <th></th>\n",
       "      <th>coordinates</th>\n",
       "      <th>latitude</th>\n",
       "      <th>longitude</th>\n",
       "      <th>name</th>\n",
       "    </tr>\n",
       "  </thead>\n",
       "  <tbody>\n",
       "    <tr>\n",
       "      <th>0</th>\n",
       "      <td>-74.0188086,40.7081817,0.0 -74.018873,40.70800...</td>\n",
       "      <td>[40.708182, 40.708003, 40.7078, 40.7071, 40.70...</td>\n",
       "      <td>[-74.018809, -74.018873, -74.018219, -74.01854...</td>\n",
       "      <td>Polygon 1</td>\n",
       "    </tr>\n",
       "    <tr>\n",
       "      <th>1</th>\n",
       "      <td>-74.0133905,40.7056849,0.0 -74.0138251,40.7051...</td>\n",
       "      <td>[40.705685, 40.705156, 40.70468, 40.70468, 40....</td>\n",
       "      <td>[-74.01339, -74.013825, -74.014083, -74.013342...</td>\n",
       "      <td>Polygon 2</td>\n",
       "    </tr>\n",
       "  </tbody>\n",
       "</table>\n",
       "</div>"
      ],
      "text/plain": [
       "                                         coordinates  \\\n",
       "0  -74.0188086,40.7081817,0.0 -74.018873,40.70800...   \n",
       "1  -74.0133905,40.7056849,0.0 -74.0138251,40.7051...   \n",
       "\n",
       "                                            latitude  \\\n",
       "0  [40.708182, 40.708003, 40.7078, 40.7071, 40.70...   \n",
       "1  [40.705685, 40.705156, 40.70468, 40.70468, 40....   \n",
       "\n",
       "                                           longitude       name  \n",
       "0  [-74.018809, -74.018873, -74.018219, -74.01854...  Polygon 1  \n",
       "1  [-74.01339, -74.013825, -74.014083, -74.013342...  Polygon 2  "
      ]
     },
     "execution_count": 10,
     "metadata": {},
     "output_type": "execute_result"
    }
   ],
   "source": [
    "path_in = 'data/output/parks.p'\n",
    "parks = pickle.load(open(path_in,'rb'))\n",
    "parks.head(2)"
   ]
  },
  {
   "cell_type": "code",
   "execution_count": 11,
   "metadata": {
    "collapsed": false
   },
   "outputs": [
    {
     "data": {
      "text/html": [
       "<div>\n",
       "<table border=\"1\" class=\"dataframe\">\n",
       "  <thead>\n",
       "    <tr style=\"text-align: right;\">\n",
       "      <th></th>\n",
       "      <th>latitude</th>\n",
       "      <th>longitude</th>\n",
       "    </tr>\n",
       "  </thead>\n",
       "  <tbody>\n",
       "    <tr>\n",
       "      <th>0</th>\n",
       "      <td>40.701390</td>\n",
       "      <td>-74.015858</td>\n",
       "    </tr>\n",
       "    <tr>\n",
       "      <th>1</th>\n",
       "      <td>40.702871</td>\n",
       "      <td>-74.017307</td>\n",
       "    </tr>\n",
       "  </tbody>\n",
       "</table>\n",
       "</div>"
      ],
      "text/plain": [
       "    latitude  longitude\n",
       "0  40.701390 -74.015858\n",
       "1  40.702871 -74.017307"
      ]
     },
     "execution_count": 11,
     "metadata": {},
     "output_type": "execute_result"
    }
   ],
   "source": [
    "path_in = 'data/output/perimeter.p'\n",
    "perimeter = pickle.load(open(path_in,'rb'))\n",
    "perimeter.head(2)"
   ]
  },
  {
   "cell_type": "markdown",
   "metadata": {
    "deletable": true,
    "editable": true
   },
   "source": [
    "# General functions"
   ]
  },
  {
   "cell_type": "code",
   "execution_count": 15,
   "metadata": {
    "collapsed": false,
    "deletable": true,
    "editable": true
   },
   "outputs": [
    {
     "data": {
      "text/plain": [
       "[(-1, -1), (1, 1)]"
      ]
     },
     "execution_count": 15,
     "metadata": {},
     "output_type": "execute_result"
    }
   ],
   "source": [
    "def get_box(point, radius):\n",
    "    '''Given the xy coordinates of a point and a desired radius,\n",
    "    return an array of two x,y points representing the top left and bottom right\n",
    "    cornders of a box that contains the point and has desired radius;\n",
    "    Example: get_box((0,0),1) >> [(-1,-1),(1,1)]'''\n",
    "    # Top left; keep in mind that 0 is the highest y coordinate\n",
    "    x_0 = point[0] - radius\n",
    "    y_0 = point[1] - radius\n",
    "    # Bottom right\n",
    "    x_1 = point[0] + radius\n",
    "    y_1 = point[1] + radius\n",
    "    return [(x_0, y_0), (x_1, y_1)]\n",
    "\n",
    "# Test\n",
    "point = (0, 0)\n",
    "radius = 1\n",
    "get_box(point, radius)"
   ]
  },
  {
   "cell_type": "code",
   "execution_count": 16,
   "metadata": {
    "collapsed": true,
    "deletable": true,
    "editable": true
   },
   "outputs": [],
   "source": [
    "# General function to display images \n",
    "def show(im):\n",
    "    return imshow(np.asarray(im))"
   ]
  },
  {
   "cell_type": "markdown",
   "metadata": {
    "deletable": true,
    "editable": true
   },
   "source": [
    "# MapMaker"
   ]
  },
  {
   "cell_type": "code",
   "execution_count": 23,
   "metadata": {
    "collapsed": false,
    "deletable": true,
    "editable": true
   },
   "outputs": [
    {
     "name": "stdout",
     "output_type": "stream",
     "text": [
      "pixels_per_degree 5543.390892208764\n"
     ]
    },
    {
     "data": {
      "image/png": "[encoded data removed]",
      "text/plain": [
       "<PIL.Image.Image image mode=RGB size=1000x1000 at 0x7FF89B195F98>"
      ]
     },
     "execution_count": 23,
     "metadata": {},
     "output_type": "execute_result"
    }
   ],
   "source": [
    "class MapMaker: \n",
    "    '''A MapMaker will accept GPS data representing land, parks, and points of interest,\n",
    "    e.g. Citibike stations, as well as a set of desired colors. It will then render an image\n",
    "    representing a map of the land and points of interest, with GPS coordinates translated\n",
    "    to pixel coordinates.'''\n",
    "    def __init__(self,gps_corners,xy_corners,colors):\n",
    "        self.set_gps_corners(gps_corners)\n",
    "        self.set_xy_corners(xy_corners)\n",
    "        self.set_pixels_per_degree()\n",
    "        self.colors = colors\n",
    "        self.data = {'land':[],'parks':[],'points':[]}\n",
    "    def set_gps_corners(self,gps_corners):\n",
    "        self.lon0 = gps_corners[0]\n",
    "        self.lat0 = gps_corners[1]\n",
    "        self.lon1 = gps_corners[2]\n",
    "        self.lat1 = gps_corners[3]\n",
    "        # Calculate longitude / latitude dimensions\n",
    "        self.lon_span = round(self.lon1 - self.lon0, 6)\n",
    "        self.lat_span = round(self.lat1 - self.lat0, 6)\n",
    "    def set_xy_corners(self,xy_corners):\n",
    "        self.x0 = xy_corners[0]\n",
    "        self.y0 = xy_corners[1]\n",
    "        self.x1 = xy_corners[2]\n",
    "        self.y1 = xy_corners[3]\n",
    "        # Calculate x and y dimensions (width, height)\n",
    "        self.x_span = self.x1 - self.x0\n",
    "        self.y_span = self.y1 - self.y0\n",
    "    def set_pixels_per_degree(self):\n",
    "        '''The conversion factor should be set so that the largest dimension (geographically) \n",
    "        will fit into the allocated number of pixels'''\n",
    "        self.pixels_per_degree = min((self.x_span/self.lon_span),(self.y_span/self.lat_span))\n",
    "    def longitude_to_x(self,longitude):\n",
    "        return int((longitude - self.lon0)*self.pixels_per_degree)\n",
    "    def latitude_to_y(self,latitude):\n",
    "        return self.y1 - int((latitude - self.lat0)*self.pixels_per_degree)\n",
    "    def get_xy_for_gps_data(self,d):\n",
    "        '''Given a dictionary with longitude and latitude arrays, return a list of xy tuples'''\n",
    "        xy = []\n",
    "        for i in range(len(d['longitude'])):\n",
    "            xy.append((self.longitude_to_x(d['longitude'][i]), self.latitude_to_y(d['latitude'][i])))\n",
    "        return xy\n",
    "    def draw(self):\n",
    "        # Create RGB image with water-colored background\n",
    "        self.im = Image.new('RGB', (self.x_span,self.y_span), self.colors['water'])\n",
    "        # Create iDraw object for drawing polygons\n",
    "        self.idraw = ImageDraw.Draw(self.im)\n",
    "        # Draw land: Manhattan\n",
    "        self.draw_land()\n",
    "        # Draw parks\n",
    "        self.draw_parks()\n",
    "        # Draw points: Citibike stations\n",
    "        self.draw_points()\n",
    "        return self.im\n",
    "    def draw_land(self):\n",
    "        # Draw polygon to represent land\n",
    "        land_xy = self.get_xy_for_gps_data(self.data['land'])\n",
    "        land_color = self.colors['land']\n",
    "        self.idraw.polygon(land_xy, fill=land_color, outline=None)\n",
    "    def draw_parks(self):\n",
    "        # Draw polygons to represent the parks\n",
    "        for i in self.data['parks'].index:\n",
    "            park_xy = self.get_xy_for_gps_data(self.data['parks'].ix[i])\n",
    "            park_color = self.colors['park']\n",
    "            self.idraw.polygon(park_xy, fill=park_color, outline=None)\n",
    "    def draw_points(self):\n",
    "        # Draw points: Citibike stations\n",
    "        for i in self.data['points'].index:\n",
    "            x = self.longitude_to_x(self.data['points'].ix[i,'longitude'])\n",
    "            y = self.latitude_to_y(self.data['points'].ix[i,'latitude'])\n",
    "            # Draw elippse centered at Citibike location\n",
    "            box = get_box((x,y), 4)\n",
    "            self.idraw.ellipse(box, fill=colors['point'], outline=None)\n",
    "\n",
    "# These coordinates define the boundaries of the geographic map \n",
    "longitude_0 = -74.025491\n",
    "longitude_1 = -73.898805\n",
    "latitude_0 = 40.699240\n",
    "latitude_1 = 40.879635\n",
    "gps_corners = (longitude_0,latitude_0,longitude_1,latitude_1)\n",
    "\n",
    "# These coordinates define the pixel dimensions of the image\n",
    "x_0 = 0\n",
    "y_0 = 0\n",
    "x_1 = 1000\n",
    "y_1 = 1000\n",
    "xy_corners = (x_0,y_0,x_1,y_1)\n",
    "\n",
    "# These are the RGB colors to use for different objects on the map\n",
    "colors = {}\n",
    "colors['land'] = (233,229,220) #E9E5DC \n",
    "colors['park'] = (202,223,170) #CADFAA\n",
    "colors['water'] = (183, 218, 255) #B7DAFF\n",
    "colors['point'] = (0, 102, 255) # Blue, for Citibike stations\n",
    "\n",
    "mm = MapMaker(gps_corners,xy_corners,colors)\n",
    "mm.data['land'] = perimeter\n",
    "mm.data['parks'] = parks\n",
    "mm.data['points'] = citibikes\n",
    "print('pixels_per_degree',mm.pixels_per_degree)\n",
    "mm.draw()"
   ]
  },
  {
   "cell_type": "code",
   "execution_count": null,
   "metadata": {
    "collapsed": true,
    "deletable": true,
    "editable": true
   },
   "outputs": [],
   "source": []
  },
  {
   "cell_type": "code",
   "execution_count": null,
   "metadata": {
    "collapsed": true,
    "deletable": true,
    "editable": true
   },
   "outputs": [],
   "source": []
  },
  {
   "cell_type": "code",
   "execution_count": null,
   "metadata": {
    "collapsed": true,
    "deletable": true,
    "editable": true
   },
   "outputs": [],
   "source": []
  },
  {
   "cell_type": "code",
   "execution_count": null,
   "metadata": {
    "collapsed": true,
    "deletable": true,
    "editable": true
   },
   "outputs": [],
   "source": []
  },
  {
   "cell_type": "code",
   "execution_count": null,
   "metadata": {
    "collapsed": true,
    "deletable": true,
    "editable": true
   },
   "outputs": [],
   "source": []
  },
  {
   "cell_type": "code",
   "execution_count": null,
   "metadata": {
    "collapsed": true,
    "deletable": true,
    "editable": true
   },
   "outputs": [],
   "source": []
  },
  {
   "cell_type": "code",
   "execution_count": null,
   "metadata": {
    "collapsed": true,
    "deletable": true,
    "editable": true
   },
   "outputs": [],
   "source": []
  }
 ],
 "metadata": {
  "kernelspec": {
   "display_name": "Python 3",
   "language": "python",
   "name": "python3"
  },
  "language_info": {
   "codemirror_mode": {
    "name": "ipython",
    "version": 3
   },
   "file_extension": ".py",
   "mimetype": "text/x-python",
   "name": "python",
   "nbconvert_exporter": "python",
   "pygments_lexer": "ipython3",
   "version": "3.5.2"
  }
 },
 "nbformat": 4,
 "nbformat_minor": 2
}
